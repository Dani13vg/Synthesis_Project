{
 "cells": [
  {
   "cell_type": "code",
   "execution_count": 4,
   "metadata": {},
   "outputs": [],
   "source": [
    "import torch\n",
    "import pandas as pd\n",
    "import torch.nn as nn\n",
    "import numpy as np\n",
    "\n",
    "from Models.model import NeuralNet\n",
    "from Utils.utils_Dataset import process_dataset, OneHotDataframe\n",
    "from Utils.utils import TranslationDataset, make_loader"
   ]
  },
  {
   "cell_type": "code",
   "execution_count": 5,
   "metadata": {},
   "outputs": [],
   "source": [
    "pkl_file = '/Users/nbiescas/Desktop/Language_GrauIAI_UAB.pkl' #Pickle file path\n",
    "\n",
    "# Obtain the dataset\n",
    "Task_Data          = pd.read_pickle(pkl_file)               # Read the pkl file containg the pandas dataframe object\n",
    "Dataset_process    = process_dataset(Task_Data)             # Obtain the preprocess Dataset\n",
    "One_hot_Dataframe  = OneHotDataframe(Dataset_process)       # Changed categorical columns using one hot vectors\n",
    "num_classes = len(One_hot_Dataframe[\"TRANSLATOR\"].unique()) # Number of translators\n",
    "input_size  = len(One_hot_Dataframe.columns) - 1 "
   ]
  },
  {
   "cell_type": "code",
   "execution_count": 6,
   "metadata": {},
   "outputs": [],
   "source": [
    "model = NeuralNet(input_size, num_classes)"
   ]
  },
  {
   "cell_type": "code",
   "execution_count": 8,
   "metadata": {},
   "outputs": [
    {
     "data": {
      "text/plain": [
       "<All keys matched successfully>"
      ]
     },
     "execution_count": 8,
     "metadata": {},
     "output_type": "execute_result"
    }
   ],
   "source": [
    "weights = torch.load('/Users/nbiescas/Desktop/Synthesis_Project/CheckPoints/Firts_Trial.pth', map_location=torch.device('cpu'))\n",
    "model.load_state_dict(weights)"
   ]
  },
  {
   "cell_type": "code",
   "execution_count": 9,
   "metadata": {},
   "outputs": [],
   "source": [
    "def obtain_input_vector(X, \n",
    "                        PM,\n",
    "                        TASK_TYPE, \n",
    "                        SOURCE_LANG, \n",
    "                        TARGET_LANG, \n",
    "                        FORECAST, \n",
    "                        HOURLY_RATECOST, \n",
    "                        QUALITY_EVALUATION, \n",
    "                        MANUFACTURER, \n",
    "                        MANUFACTURER_SECTOR):\n",
    "    \n",
    "    new_row = pd.Series(np.zeros(len(X.columns)), index=X.columns)\n",
    "\n",
    "    new_row['FORECAST'], new_row['HOURLY_RATE'], new_row['QUALITY_EVALUATION'] = FORECAST, HOURLY_RATECOST, QUALITY_EVALUATION\n",
    "\n",
    "    new_row['PM_' + PM]                                 = 1           \n",
    "    new_row['TASK_TYPE_' + TASK_TYPE]                   = 1\n",
    "    new_row['SOURCE_LANG_' + SOURCE_LANG]               = 1\n",
    "    new_row['TARGET_LANG_' + TARGET_LANG]               = 1\n",
    "    new_row['MANUFACTURER_'+ MANUFACTURER]              = 1\n",
    "    new_row['MANUFACTURER_SECTOR_'+MANUFACTURER_SECTOR] = 1\n",
    "\n",
    "    return torch.tensor(new_row.values, dtype=torch.float32) \n",
    "\n",
    "new_row = obtain_input_vector(One_hot_Dataframe.loc[:, One_hot_Dataframe.columns != 'TRANSLATOR'],PM = \"BMT\",\n",
    "                    TASK_TYPE = \"Engineering\", \n",
    "                    SOURCE_LANG = \"English\", \n",
    "                    TARGET_LANG = \"Spanish (Iberian)\", \n",
    "                    FORECAST = 32, \n",
    "                    HOURLY_RATECOST = 5, \n",
    "                    QUALITY_EVALUATION = 1, \n",
    "                    MANUFACTURER = 'TrueConnect', \n",
    "                    MANUFACTURER_SECTOR = 'Information Technology')"
   ]
  },
  {
   "cell_type": "code",
   "execution_count": 13,
   "metadata": {},
   "outputs": [],
   "source": [
    "Y = One_hot_Dataframe.loc[:, 'TRANSLATOR']\n",
    "X = One_hot_Dataframe.loc[:, One_hot_Dataframe.columns != 'TRANSLATOR']\n",
    "\n",
    "Dataset = TranslationDataset(One_hot_Dataframe, X.values, list(range(len(X))))\n",
    "DataLoader = make_loader(Dataset, 64)"
   ]
  },
  {
   "cell_type": "code",
   "execution_count": 281,
   "metadata": {},
   "outputs": [],
   "source": [
    "def get_next_sample():\n",
    "    for data, labels in DataLoader:\n",
    "        yield data[0], labels[0]\n",
    "\n",
    "generator = get_next_sample()"
   ]
  },
  {
   "cell_type": "code",
   "execution_count": 17,
   "metadata": {},
   "outputs": [],
   "source": [
    "Softmax = nn.Softmax(dim=1)"
   ]
  },
  {
   "cell_type": "code",
   "execution_count": 28,
   "metadata": {},
   "outputs": [],
   "source": [
    "new_row\n",
    "output = model(new_row)\n",
    "output_softmax = Softmax(output.unsqueeze(0))\n",
    "sorted_values, sorted_indices = torch.sort(output_softmax, descending=True)\n",
    "sorted_values, sorted_indices = sorted_values[0][:10], sorted_indices[0][:10]\n",
    "mapped_list_comprehension = [Dataset.Labels2Translator[int(num)] for num in sorted_indices]"
   ]
  },
  {
   "cell_type": "code",
   "execution_count": 36,
   "metadata": {},
   "outputs": [
    {
     "data": {
      "text/plain": [
       "[('Porfirio', 0.01),\n",
       " ('Ambrosia Adon', 0.01),\n",
       " ('Juvenal Vicente', 0.01),\n",
       " ('Vinicius', 0.01),\n",
       " ('Markel', 0.01),\n",
       " ('Maria Fernanda', 0.01),\n",
       " ('Juan Carlos', 0.01),\n",
       " ('Pablo Martin', 0.01),\n",
       " ('Carles', 0.01),\n",
       " ('Mercedes Catalina', 0.01)]"
      ]
     },
     "execution_count": 36,
     "metadata": {},
     "output_type": "execute_result"
    }
   ],
   "source": [
    "def return_top_10(input, num):\n",
    "    output = model(input)\n",
    "    output_softmax = Softmax(output.unsqueeze(0))\n",
    "    sorted_values, sorted_indices = torch.sort(output_softmax, descending=True)\n",
    "    sorted_values, sorted_indices = sorted_values[0][:num], sorted_indices[0][:num]\n",
    "    mapped_list_comprehension = [(Dataset.Labels2Translator[int(num)], round(float(values), 2)) for num, values in zip(sorted_indices, sorted_values)]\n",
    "\n",
    "    return mapped_list_comprehension\n",
    "\n",
    "return_top_10(new_row, 10)"
   ]
  },
  {
   "cell_type": "code",
   "execution_count": 319,
   "metadata": {},
   "outputs": [
    {
     "data": {
      "image/png": "[encoded data removed]",
      "text/plain": [
       "<Figure size 640x480 with 1 Axes>"
      ]
     },
     "metadata": {},
     "output_type": "display_data"
    }
   ],
   "source": [
    "\n",
    "\n",
    "features, label = next(generator)\n",
    "outputs = model(features).cpu()\n",
    "softmax_output = Softmax(outputs.unsqueeze(0))\n",
    "sorted_values, sorted_indices = torch.sort(softmax_output, descending=True)\n",
    "sorted_values = sorted_values[0][:10]\n",
    "sorted_indices = sorted_indices[0][:10]\n",
    "mapped_list_comprehension = [Dataset.Labels2Translator[int(num)] for num in sorted_indices]\n",
    "\n",
    "\n",
    "import matplotlib.pyplot as plt\n",
    "plt.bar(mapped_list_comprehension, sorted_values.detach().numpy())\n",
    "\n",
    "# Add labels and title\n",
    "plt.xlabel('Names')\n",
    "plt.ylabel('Values')\n",
    "plt.title('Bar Plot')\n",
    "# Rotate the x-labels\n",
    "plt.xticks(rotation=60)\n",
    "# Display the plot\n",
    "plt.show()"
   ]
  },
  {
   "cell_type": "code",
   "execution_count": 320,
   "metadata": {},
   "outputs": [
    {
     "data": {
      "text/plain": [
       "'Juan Carlos'"
      ]
     },
     "execution_count": 320,
     "metadata": {},
     "output_type": "execute_result"
    }
   ],
   "source": [
    "Dataset.Labels2Translator[int(label)]"
   ]
  }
 ],
 "metadata": {
  "kernelspec": {
   "display_name": "base",
   "language": "python",
   "name": "python3"
  },
  "language_info": {
   "codemirror_mode": {
    "name": "ipython",
    "version": 3
   },
   "file_extension": ".py",
   "mimetype": "text/x-python",
   "name": "python",
   "nbconvert_exporter": "python",
   "pygments_lexer": "ipython3",
   "version": "3.9.13"
  },
  "orig_nbformat": 4
 },
 "nbformat": 4,
 "nbformat_minor": 2
}
