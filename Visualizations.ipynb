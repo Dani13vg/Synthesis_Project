{
 "cells": [
  {
   "cell_type": "code",
   "execution_count": 1,
   "metadata": {},
   "outputs": [],
   "source": [
    "import torch\n",
    "import pandas as pd\n",
    "import torch.nn as nn\n",
    "import numpy as np\n",
    "\n",
    "from Models.model import NeuralNet\n",
    "from Utils.utils_Dataset import process_dataset, OneHotDataframe\n",
    "from Utils.utils import TranslationDataset, make_loader\n",
    "from sklearn.model_selection import StratifiedShuffleSplit"
   ]
  },
  {
   "cell_type": "code",
   "execution_count": 2,
   "metadata": {},
   "outputs": [],
   "source": [
    "pkl_file = '/home/xnmaster/Language_GrauIAI_UAB.pkl' #Pickle file path\n",
    "\n",
    "# Obtain the dataset\n",
    "Task_Data          = pd.read_pickle(pkl_file)               # Read the pkl file containg the pandas dataframe object\n",
    "Dataset_process    = process_dataset(Task_Data)             # Obtain the preprocess Dataset\n",
    "One_hot_Dataframe  = OneHotDataframe(Dataset_process)       # Changed categorical columns using one hot vectors\n",
    "num_classes = len(One_hot_Dataframe[\"TRANSLATOR\"].unique()) # Number of translators\n",
    "input_size  = len(One_hot_Dataframe.columns) - 1 "
   ]
  },
  {
   "cell_type": "code",
   "execution_count": 3,
   "metadata": {},
   "outputs": [],
   "source": [
    "model = NeuralNet(input_size, num_classes)"
   ]
  },
  {
   "cell_type": "code",
   "execution_count": 5,
   "metadata": {},
   "outputs": [
    {
     "ename": "RuntimeError",
     "evalue": "Error(s) in loading state_dict for NeuralNet:\n\tMissing key(s) in state_dict: \"model.5.weight\", \"model.5.bias\", \"model.7.weight\", \"model.7.bias\", \"model.9.weight\", \"model.9.bias\". \n\tUnexpected key(s) in state_dict: \"model.4.weight\", \"model.4.bias\", \"model.6.weight\", \"model.6.bias\", \"model.8.weight\", \"model.8.bias\". ",
     "output_type": "error",
     "traceback": [
      "\u001b[0;31m---------------------------------------------------------------------------\u001b[0m",
      "\u001b[0;31mRuntimeError\u001b[0m                              Traceback (most recent call last)",
      "Cell \u001b[0;32mIn[5], line 2\u001b[0m\n\u001b[1;32m      1\u001b[0m weights \u001b[39m=\u001b[39m torch\u001b[39m.\u001b[39mload(\u001b[39m'\u001b[39m\u001b[39m/home/xnmaster/Synthesis_Project/CheckPoints/64_Batch_Size_with_Dropout.pth\u001b[39m\u001b[39m'\u001b[39m, map_location\u001b[39m=\u001b[39mtorch\u001b[39m.\u001b[39mdevice(\u001b[39m'\u001b[39m\u001b[39mcpu\u001b[39m\u001b[39m'\u001b[39m))\n\u001b[0;32m----> 2\u001b[0m model\u001b[39m.\u001b[39;49mload_state_dict(weights)\n",
      "File \u001b[0;32m/anaconda/envs/pytorch/lib/python3.9/site-packages/torch/nn/modules/module.py:2041\u001b[0m, in \u001b[0;36mModule.load_state_dict\u001b[0;34m(self, state_dict, strict)\u001b[0m\n\u001b[1;32m   2036\u001b[0m         error_msgs\u001b[39m.\u001b[39minsert(\n\u001b[1;32m   2037\u001b[0m             \u001b[39m0\u001b[39m, \u001b[39m'\u001b[39m\u001b[39mMissing key(s) in state_dict: \u001b[39m\u001b[39m{}\u001b[39;00m\u001b[39m. \u001b[39m\u001b[39m'\u001b[39m\u001b[39m.\u001b[39mformat(\n\u001b[1;32m   2038\u001b[0m                 \u001b[39m'\u001b[39m\u001b[39m, \u001b[39m\u001b[39m'\u001b[39m\u001b[39m.\u001b[39mjoin(\u001b[39m'\u001b[39m\u001b[39m\"\u001b[39m\u001b[39m{}\u001b[39;00m\u001b[39m\"\u001b[39m\u001b[39m'\u001b[39m\u001b[39m.\u001b[39mformat(k) \u001b[39mfor\u001b[39;00m k \u001b[39min\u001b[39;00m missing_keys)))\n\u001b[1;32m   2040\u001b[0m \u001b[39mif\u001b[39;00m \u001b[39mlen\u001b[39m(error_msgs) \u001b[39m>\u001b[39m \u001b[39m0\u001b[39m:\n\u001b[0;32m-> 2041\u001b[0m     \u001b[39mraise\u001b[39;00m \u001b[39mRuntimeError\u001b[39;00m(\u001b[39m'\u001b[39m\u001b[39mError(s) in loading state_dict for \u001b[39m\u001b[39m{}\u001b[39;00m\u001b[39m:\u001b[39m\u001b[39m\\n\u001b[39;00m\u001b[39m\\t\u001b[39;00m\u001b[39m{}\u001b[39;00m\u001b[39m'\u001b[39m\u001b[39m.\u001b[39mformat(\n\u001b[1;32m   2042\u001b[0m                        \u001b[39mself\u001b[39m\u001b[39m.\u001b[39m\u001b[39m__class__\u001b[39m\u001b[39m.\u001b[39m\u001b[39m__name__\u001b[39m, \u001b[39m\"\u001b[39m\u001b[39m\\n\u001b[39;00m\u001b[39m\\t\u001b[39;00m\u001b[39m\"\u001b[39m\u001b[39m.\u001b[39mjoin(error_msgs)))\n\u001b[1;32m   2043\u001b[0m \u001b[39mreturn\u001b[39;00m _IncompatibleKeys(missing_keys, unexpected_keys)\n",
      "\u001b[0;31mRuntimeError\u001b[0m: Error(s) in loading state_dict for NeuralNet:\n\tMissing key(s) in state_dict: \"model.5.weight\", \"model.5.bias\", \"model.7.weight\", \"model.7.bias\", \"model.9.weight\", \"model.9.bias\". \n\tUnexpected key(s) in state_dict: \"model.4.weight\", \"model.4.bias\", \"model.6.weight\", \"model.6.bias\", \"model.8.weight\", \"model.8.bias\". "
     ]
    }
   ],
   "source": [
    "weights = torch.load('/home/xnmaster/Synthesis_Project/CheckPoints/64_Batch_Size_with_Dropout.pth', map_location=torch.device('cpu'))\n",
    "model.load_state_dict(weights)"
   ]
  },
  {
   "cell_type": "code",
   "execution_count": 5,
   "metadata": {},
   "outputs": [],
   "source": [
    "def obtain_input_vector(X, \n",
    "                        PM,\n",
    "                        TASK_TYPE, \n",
    "                        SOURCE_LANG, \n",
    "                        TARGET_LANG, \n",
    "                        FORECAST, \n",
    "                        HOURLY_RATECOST, \n",
    "                        QUALITY_EVALUATION, \n",
    "                        MANUFACTURER, \n",
    "                        MANUFACTURER_SECTOR):\n",
    "    \n",
    "    new_row = pd.Series(np.zeros(len(X.columns)), index=X.columns)\n",
    "\n",
    "    new_row['FORECAST'], new_row['HOURLY_RATE'], new_row['QUALITY_EVALUATION'] = FORECAST, HOURLY_RATECOST, QUALITY_EVALUATION\n",
    "\n",
    "    new_row['PM_' + PM]                                 = 1           \n",
    "    new_row['TASK_TYPE_' + TASK_TYPE]                   = 1\n",
    "    new_row['SOURCE_LANG_' + SOURCE_LANG]               = 1\n",
    "    new_row['TARGET_LANG_' + TARGET_LANG]               = 1\n",
    "    new_row['MANUFACTURER_'+ MANUFACTURER]              = 1\n",
    "    new_row['MANUFACTURER_SECTOR_'+MANUFACTURER_SECTOR] = 1\n",
    "\n",
    "    return torch.tensor(new_row.values, dtype=torch.float32) \n",
    "\n",
    "new_row = obtain_input_vector(One_hot_Dataframe.loc[:, One_hot_Dataframe.columns != 'TRANSLATOR'],PM = \"BMT\",\n",
    "                    TASK_TYPE = \"Engineering\", \n",
    "                    SOURCE_LANG = \"English\", \n",
    "                    TARGET_LANG = \"Spanish (Iberian)\", \n",
    "                    FORECAST = 32, \n",
    "                    HOURLY_RATECOST = 5, \n",
    "                    QUALITY_EVALUATION = 1, \n",
    "                    MANUFACTURER = 'TrueConnect', \n",
    "                    MANUFACTURER_SECTOR = 'Information Technology')"
   ]
  },
  {
   "cell_type": "code",
   "execution_count": 6,
   "metadata": {},
   "outputs": [],
   "source": [
    "X                  = One_hot_Dataframe.loc[:, One_hot_Dataframe.columns != 'TRANSLATOR'] # Features\n",
    "Translators        = One_hot_Dataframe['TRANSLATOR']                                            # True labels"
   ]
  },
  {
   "cell_type": "code",
   "execution_count": 7,
   "metadata": {},
   "outputs": [],
   "source": [
    "Splits_Train_Test  = StratifiedShuffleSplit(n_splits=3, test_size=0.3, random_state=42)\n",
    "Train_Test_indices = Splits_Train_Test.split(X, Translators)\n",
    "\n",
    "train_indices, test_indices = next(Train_Test_indices)\n",
    "\n",
    "Dataset = TranslationDataset(One_hot_Dataframe, X.values, test_indices)\n",
    "DataLoader = make_loader(Dataset, 64, shuffle=False)"
   ]
  },
  {
   "cell_type": "code",
   "execution_count": 43,
   "metadata": {},
   "outputs": [],
   "source": [
    "model = model.to('cuda')\n",
    "y_true = []\n",
    "y_pred = []\n",
    "\n",
    "model.eval()\n",
    "for data, label in DataLoader:\n",
    "    data, label = data.to('cuda'), label.to('cuda')\n",
    "\n",
    "    output = model(data)                                                         \n",
    "    pred = output.data.max(1, keepdim=True)[1] # get the index of the max log-probability\n",
    "    y_true.append(label.tolist())\n",
    "    y_pred.append(pred.squeeze().tolist())                                                       \n",
    "    \n"
   ]
  },
  {
   "cell_type": "code",
   "execution_count": 44,
   "metadata": {},
   "outputs": [],
   "source": [
    "y_true = [[Dataset.Labels2Translator[int(translator_idx)] for translator_idx in list_true] for list_true in y_true]\n",
    "y_pred = [[Dataset.Labels2Translator[int(translator_idx)] for translator_idx in list_pred] for list_pred in y_pred]"
   ]
  },
  {
   "cell_type": "code",
   "execution_count": 49,
   "metadata": {},
   "outputs": [],
   "source": [
    "from sklearn.preprocessing import LabelBinarizer\n",
    "from itertools import chain\n",
    "from sklearn.metrics import classification_report, confusion_matrix\n",
    "\n",
    "\n",
    "def bio_classification_report(y_true, y_pred):\n",
    "    \"\"\"\n",
    "\n",
    "    Classification report.\n",
    "    You can use this as evaluation for both in the baseline model and new model.\n",
    "    \"\"\"\n",
    "    lb = LabelBinarizer()\n",
    "    y_true_combined = lb.fit_transform(list(chain.from_iterable(y_true)))\n",
    "    y_pred_combined = lb.transform(list(chain.from_iterable(y_pred)))\n",
    "        \n",
    "    tagset = set(lb.classes_) - {'O'}\n",
    "    tagset = sorted(tagset, key=lambda tag: tag.split('-', 1)[::-1])\n",
    "    class_indices = {cls: idx for idx, cls in enumerate(lb.classes_)}\n",
    "    \n",
    "    return classification_report(\n",
    "        y_true_combined,\n",
    "        y_pred_combined,\n",
    "        labels = [class_indices[cls] for cls in tagset],\n",
    "        target_names = tagset,\n",
    "    )"
   ]
  },
  {
   "cell_type": "code",
   "execution_count": 50,
   "metadata": {},
   "outputs": [
    {
     "name": "stdout",
     "output_type": "stream",
     "text": [
      "Translators evaluation                      precision    recall  f1-score   support\n",
      "\n",
      "           Abelardo       0.00      0.00      0.00       333\n",
      "      Acacio Poncio       0.00      0.00      0.00       577\n",
      " Adalberto Anatolio       0.00      0.00      0.00      1026\n",
      "             Agueda       0.00      0.00      0.00       953\n",
      "          Alejandro       0.01      0.64      0.01       327\n",
      "              Aline       0.00      0.00      0.00       635\n",
      "    Almudena Fiamma       0.00      0.00      0.00       572\n",
      "              Amaro       0.00      0.00      0.00       424\n",
      "      Ambrosia Adon       0.00      0.00      0.00      1144\n",
      "        Ana Daniela       0.00      0.00      0.00       166\n",
      "    Anselma Daciano       0.00      0.00      0.00       531\n",
      "    Ariadna Laurina       0.00      0.00      0.00       943\n",
      "    Artur Fulgencio       0.00      0.00      0.00       960\n",
      "          Ascension       0.00      0.00      0.00      2479\n",
      "            Beatriz       0.00      0.00      0.00       202\n",
      "             Breixo       0.00      0.00      0.00       635\n",
      "             Carles       0.00      0.00      0.00       365\n",
      "            Casiano       0.00      0.00      0.00      3023\n",
      "              Celso       0.00      0.00      0.00       855\n",
      "             Celton       0.00      0.00      0.00       269\n",
      "          Christian       0.00      0.00      0.00       204\n",
      "  Columbano Cleofas       0.00      0.00      0.00      1045\n",
      "    Conchi Marciano       0.00      0.00      0.00       212\n",
      " Constantino Carmen       0.00      0.00      0.00       426\n",
      "         Dacio Abel       0.00      0.00      0.00      1794\n",
      "     Daiana Rosario       0.01      0.00      0.00      2509\n",
      "            Damiana       0.00      0.00      0.00       586\n",
      "              Dario       0.00      0.00      0.00       499\n",
      "      David Antonio       0.00      0.00      0.00       317\n",
      "            Edmundo       0.00      0.00      0.00       654\n",
      "       Elias Daiana       0.00      0.00      0.00       374\n",
      "             Eliseo       0.00      0.00      0.00       741\n",
      "              Enith       0.00      0.00      0.00       239\n",
      "              Erico       0.00      0.00      0.00       678\n",
      "              Ester       0.00      0.00      0.00       532\n",
      "          Fortunato       0.00      0.00      0.00       391\n",
      "     Francisco Jose       0.00      0.00      0.00       188\n",
      "               Gala       0.00      0.00      0.00      4207\n",
      "              Gorka       0.00      0.00      0.00       292\n",
      "    Gregorio Monica       0.00      0.00      0.00       323\n",
      "      Greta Casiano       0.00      0.00      0.00       404\n",
      "Guadalupe Ildefonso       0.00      0.00      0.00       203\n",
      "              Guido       0.00      0.00      0.00       161\n",
      "             Hector       0.00      0.00      0.00       204\n",
      " Ildefonso Ambrosio       0.00      0.00      0.00       334\n",
      "    Inocencio Lucas       0.00      0.00      0.00      1290\n",
      "             Ireneo       0.00      0.00      0.00       782\n",
      "    Isaias Venancio       0.00      0.00      0.00      4852\n",
      "              Ivana       0.00      0.00      0.00       280\n",
      "         Jonas Tito       0.00      0.00      0.00       399\n",
      "       Jose Ignacio       0.00      0.00      0.00       248\n",
      "        Juan Carlos       0.00      0.00      0.00       612\n",
      "    Juvenal Vicente       0.01      0.34      0.03       550\n",
      "              Killa       0.00      0.00      0.00       477\n",
      "   Laureano Facundo       0.00      0.01      0.00       281\n",
      "     Laurina Rafael       0.00      0.00      0.00       466\n",
      "   Laurina Santiago       0.00      0.00      0.00       247\n",
      "             Lucano       0.00      0.00      0.00       220\n",
      "        Luis Felipe       0.00      0.00      0.00      1057\n",
      "     Marcelo German       0.00      0.00      0.00       341\n",
      "             Marcos       0.00      0.00      0.00       677\n",
      "          Margarita       0.00      0.00      0.00       196\n",
      "       Maria Aurora       0.00      0.00      0.00       417\n",
      "     Maria Fernanda       0.00      0.00      0.00       519\n",
      "      Mariano Fidel       0.00      0.00      0.00       931\n",
      "  Mariano Valeriano       0.00      0.00      0.00       247\n",
      "             Markel       0.00      0.00      0.00       444\n",
      "             Maximo       0.00      0.00      0.00       275\n",
      "  Mercedes Catalina       0.00      0.00      0.00       266\n",
      "    Nieves Leocadia       0.00      0.00      0.00       972\n",
      "             Octavi       0.00      0.00      0.00       208\n",
      "       Octavio Jana       0.00      0.00      0.00       583\n",
      "              Oscar       0.00      0.00      0.00       375\n",
      "      Otilia Rebeca       0.00      0.00      0.00       438\n",
      "       Pablo Martin       0.00      0.00      0.00       200\n",
      "   Pancracio Adolfo       0.00      0.00      0.00       329\n",
      "              Paula       0.00      0.00      0.00       297\n",
      "  Petronila Teofila       0.00      0.00      0.00      1111\n",
      "            Pio Pio       0.00      0.00      0.00       252\n",
      "           Porfirio       0.00      0.00      0.00       225\n",
      "           Priscila       0.00      0.00      0.00       759\n",
      "            Rafaela       0.00      0.00      0.00       355\n",
      "     Ramiro Josafat       0.00      0.00      0.00       814\n",
      "      Roque Marlene       0.00      0.00      0.00       544\n",
      "               Rufo       0.00      0.00      0.00       315\n",
      "    Salma Benedicto       0.00      0.00      0.00       193\n",
      "             Salome       0.00      0.00      0.00       255\n",
      "               Sara       0.00      0.00      0.00       167\n",
      "           Severino       0.00      0.00      0.00       311\n",
      "            Sussana       0.00      0.00      0.00       500\n",
      "     Ubaldo Maitane       0.00      0.00      0.00       219\n",
      "   Victorino Yamila       0.00      0.00      0.00       561\n",
      "           Vinicius       0.00      0.00      0.00       642\n",
      "              Xoana       0.00      0.00      0.00      2850\n",
      "\n",
      "          micro avg       0.01      0.01      0.01     63485\n",
      "          macro avg       0.00      0.01      0.00     63485\n",
      "       weighted avg       0.00      0.01      0.00     63485\n",
      "        samples avg       0.01      0.01      0.01     63485\n",
      "\n"
     ]
    },
    {
     "name": "stderr",
     "output_type": "stream",
     "text": [
      "/anaconda/envs/pytorch/lib/python3.9/site-packages/sklearn/metrics/_classification.py:1344: UndefinedMetricWarning: Precision and F-score are ill-defined and being set to 0.0 in labels with no predicted samples. Use `zero_division` parameter to control this behavior.\n",
      "  _warn_prf(average, modifier, msg_start, len(result))\n"
     ]
    }
   ],
   "source": [
    "TRANSLATORS = bio_classification_report(y_true, y_pred)\n",
    "print('Translators evaluation', TRANSLATORS)"
   ]
  },
  {
   "cell_type": "code",
   "execution_count": null,
   "metadata": {},
   "outputs": [],
   "source": [
    "Softmax = nn.Softmax(dim=1)\n",
    "def return_top_10(input, num):\n",
    "    output = model(input)\n",
    "    output_softmax = Softmax(output.unsqueeze(0))\n",
    "    sorted_values, sorted_indices = torch.sort(output_softmax, descending=True)\n",
    "    sorted_values, sorted_indices = sorted_values[0][:num], sorted_indices[0][:num]\n",
    "    mapped_list_comprehension = [(Dataset.Labels2Translator[int(num)], round(float(values), 2)) for num, values in zip(sorted_indices, sorted_values)]\n",
    "\n",
    "    return mapped_list_comprehension\n",
    "\n",
    "return_top_10(new_row, 10)"
   ]
  }
 ],
 "metadata": {
  "kernelspec": {
   "display_name": "base",
   "language": "python",
   "name": "python3"
  },
  "language_info": {
   "codemirror_mode": {
    "name": "ipython",
    "version": 3
   },
   "file_extension": ".py",
   "mimetype": "text/x-python",
   "name": "python",
   "nbconvert_exporter": "python",
   "pygments_lexer": "ipython3",
   "version": "3.9.16"
  },
  "orig_nbformat": 4
 },
 "nbformat": 4,
 "nbformat_minor": 2
}
